{
 "cells": [
  {
   "cell_type": "code",
   "execution_count": 1,
   "id": "cd0824a9-8c80-437f-a824-bb67c02a33e3",
   "metadata": {},
   "outputs": [],
   "source": [
    "# 문장단위 분류가 아닌, 토큰 단위의 분류를 진행하는 태스크\n",
    "# 하나의 문장을 입력으로 받고, 각각의 토큰을 각각 분류\n",
    "# 주로 문장 내에서 유효한 개체를 추출해 내는 개체명 인식 태스크에 많이 사용"
   ]
  },
  {
   "cell_type": "code",
   "execution_count": 5,
   "id": "6e751ca7-d931-4477-b5e1-16dd1dd0c6c6",
   "metadata": {},
   "outputs": [
    {
     "name": "stderr",
     "output_type": "stream",
     "text": [
      "2025-06-16 05:31:56.749214: I tensorflow/core/util/port.cc:153] oneDNN custom operations are on. You may see slightly different numerical results due to floating-point round-off errors from different computation orders. To turn them off, set the environment variable `TF_ENABLE_ONEDNN_OPTS=0`.\n",
      "2025-06-16 05:31:56.756085: E external/local_xla/xla/stream_executor/cuda/cuda_fft.cc:467] Unable to register cuFFT factory: Attempting to register factory for plugin cuFFT when one has already been registered\n",
      "WARNING: All log messages before absl::InitializeLog() is called are written to STDERR\n",
      "E0000 00:00:1750051916.764462   37027 cuda_dnn.cc:8579] Unable to register cuDNN factory: Attempting to register factory for plugin cuDNN when one has already been registered\n",
      "E0000 00:00:1750051916.766922   37027 cuda_blas.cc:1407] Unable to register cuBLAS factory: Attempting to register factory for plugin cuBLAS when one has already been registered\n",
      "W0000 00:00:1750051916.773402   37027 computation_placer.cc:177] computation placer already registered. Please check linkage and avoid linking the same target more than once.\n",
      "W0000 00:00:1750051916.773411   37027 computation_placer.cc:177] computation placer already registered. Please check linkage and avoid linking the same target more than once.\n",
      "W0000 00:00:1750051916.773412   37027 computation_placer.cc:177] computation placer already registered. Please check linkage and avoid linking the same target more than once.\n",
      "W0000 00:00:1750051916.773413   37027 computation_placer.cc:177] computation placer already registered. Please check linkage and avoid linking the same target more than once.\n",
      "2025-06-16 05:31:56.775978: I tensorflow/core/platform/cpu_feature_guard.cc:210] This TensorFlow binary is optimized to use available CPU instructions in performance-critical operations.\n",
      "To enable the following instructions: AVX2 AVX_VNNI FMA, in other operations, rebuild TensorFlow with the appropriate compiler flags.\n",
      "Some weights of BertForTokenClassification were not initialized from the model checkpoint at klue/bert-base and are newly initialized: ['classifier.bias', 'classifier.weight']\n",
      "You should probably TRAIN this model on a down-stream task to be able to use it for predictions and inference.\n"
     ]
    },
    {
     "data": {
      "text/plain": [
       "BertForTokenClassification(\n",
       "  (bert): BertModel(\n",
       "    (embeddings): BertEmbeddings(\n",
       "      (word_embeddings): Embedding(32000, 768, padding_idx=0)\n",
       "      (position_embeddings): Embedding(512, 768)\n",
       "      (token_type_embeddings): Embedding(2, 768)\n",
       "      (LayerNorm): LayerNorm((768,), eps=1e-12, elementwise_affine=True)\n",
       "      (dropout): Dropout(p=0.1, inplace=False)\n",
       "    )\n",
       "    (encoder): BertEncoder(\n",
       "      (layer): ModuleList(\n",
       "        (0-11): 12 x BertLayer(\n",
       "          (attention): BertAttention(\n",
       "            (self): BertSdpaSelfAttention(\n",
       "              (query): Linear(in_features=768, out_features=768, bias=True)\n",
       "              (key): Linear(in_features=768, out_features=768, bias=True)\n",
       "              (value): Linear(in_features=768, out_features=768, bias=True)\n",
       "              (dropout): Dropout(p=0.1, inplace=False)\n",
       "            )\n",
       "            (output): BertSelfOutput(\n",
       "              (dense): Linear(in_features=768, out_features=768, bias=True)\n",
       "              (LayerNorm): LayerNorm((768,), eps=1e-12, elementwise_affine=True)\n",
       "              (dropout): Dropout(p=0.1, inplace=False)\n",
       "            )\n",
       "          )\n",
       "          (intermediate): BertIntermediate(\n",
       "            (dense): Linear(in_features=768, out_features=3072, bias=True)\n",
       "            (intermediate_act_fn): GELUActivation()\n",
       "          )\n",
       "          (output): BertOutput(\n",
       "            (dense): Linear(in_features=3072, out_features=768, bias=True)\n",
       "            (LayerNorm): LayerNorm((768,), eps=1e-12, elementwise_affine=True)\n",
       "            (dropout): Dropout(p=0.1, inplace=False)\n",
       "          )\n",
       "        )\n",
       "      )\n",
       "    )\n",
       "  )\n",
       "  (dropout): Dropout(p=0.1, inplace=False)\n",
       "  (classifier): Linear(in_features=768, out_features=2, bias=True)\n",
       ")"
      ]
     },
     "execution_count": 5,
     "metadata": {},
     "output_type": "execute_result"
    }
   ],
   "source": [
    "# 문장분류 모댈과 비슷하지만, 벡터 차원 축소(풀링) 작업을 진행하지 않고 모든 토큰에 각각 출력 헤더를 달아 독립적으로 분류 진행\n",
    "import torch\n",
    "from transformers import AutoTokenizer, AutoModelForTokenClassification\n",
    "\n",
    "model_name = \"klue/bert-base\"  \n",
    "tokenizer = AutoTokenizer.from_pretrained(model_name)\n",
    "model = AutoModelForTokenClassification.from_pretrained(model_name)\n",
    "\n",
    "model # 마지막에 classifier 추가되어 있음"
   ]
  },
  {
   "cell_type": "code",
   "execution_count": 8,
   "id": "7e006593-464d-4baf-a4f3-efff58f1cdb1",
   "metadata": {},
   "outputs": [
    {
     "name": "stdout",
     "output_type": "stream",
     "text": [
      "tokens :  ['특', '히', ' ', '영', '동', '고', '속', '도', '로', ' ', '강', '릉', ' ', '방', '향', ' ', '문', '막', '휴', '게']\n",
      "ner tags:  [12, 12, 12, 2, 3, 3, 3, 3, 3, 12, 2, 3, 12, 12, 12, 12, 2, 3, 3, 3]\n",
      "(66, 66)\n"
     ]
    }
   ],
   "source": [
    "from datasets import load_dataset\n",
    "\n",
    "dataset = load_dataset(\"klue\", \"ner\")\n",
    "\n",
    "sample = dataset['train'][0]\n",
    "print('tokens : ', sample['tokens'][:20])\n",
    "print('ner tags: ', sample['ner_tags'][:20])\n",
    "print((len(sample['tokens']), (len(sample['tokens']))))"
   ]
  },
  {
   "cell_type": "code",
   "execution_count": 9,
   "id": "0d2a86ec-5fec-415c-a423-9a00a960bb69",
   "metadata": {},
   "outputs": [
    {
     "name": "stdout",
     "output_type": "stream",
     "text": [
      "특 \t 12\n",
      "히 \t 12\n",
      "  \t 12\n",
      "영 \t 2\n",
      "동 \t 3\n",
      "고 \t 3\n",
      "속 \t 3\n",
      "도 \t 3\n",
      "로 \t 3\n",
      "  \t 12\n",
      "강 \t 2\n",
      "릉 \t 3\n",
      "  \t 12\n",
      "방 \t 12\n",
      "향 \t 12\n",
      "  \t 12\n",
      "문 \t 2\n",
      "막 \t 3\n",
      "휴 \t 3\n",
      "게 \t 3\n",
      "소 \t 3\n",
      "에 \t 12\n",
      "서 \t 12\n",
      "  \t 12\n",
      "만 \t 2\n",
      "종 \t 3\n",
      "분 \t 3\n",
      "기 \t 3\n",
      "점 \t 3\n",
      "까 \t 12\n",
      "지 \t 12\n",
      "  \t 12\n",
      "5 \t 8\n",
      "㎞ \t 9\n",
      "  \t 12\n",
      "구 \t 12\n",
      "간 \t 12\n",
      "에 \t 12\n",
      "는 \t 12\n",
      "  \t 12\n",
      "승 \t 12\n",
      "용 \t 12\n",
      "차 \t 12\n",
      "  \t 12\n",
      "전 \t 12\n",
      "용 \t 12\n",
      "  \t 12\n",
      "임 \t 12\n",
      "시 \t 12\n",
      "  \t 12\n",
      "갓 \t 12\n",
      "길 \t 12\n",
      "차 \t 12\n",
      "로 \t 12\n",
      "제 \t 12\n",
      "를 \t 12\n",
      "  \t 12\n",
      "운 \t 12\n",
      "영 \t 12\n",
      "하 \t 12\n",
      "기 \t 12\n",
      "로 \t 12\n",
      "  \t 12\n",
      "했 \t 12\n",
      "다 \t 12\n",
      ". \t 12\n"
     ]
    }
   ],
   "source": [
    "for i in range(len(sample['ner_tags'])):\n",
    "    print(sample['tokens'][i], '\\t', sample['ner_tags'][i])"
   ]
  },
  {
   "cell_type": "code",
   "execution_count": 12,
   "id": "d5a47136-f418-429d-be0d-22f45d6e9563",
   "metadata": {},
   "outputs": [
    {
     "data": {
      "application/vnd.jupyter.widget-view+json": {
       "model_id": "6a3f94c68cb94a48a2b75e9e60eca037",
       "version_major": 2,
       "version_minor": 0
      },
      "text/plain": [
       "Map:   0%|          | 0/21008 [00:00<?, ? examples/s]"
      ]
     },
     "metadata": {},
     "output_type": "display_data"
    },
    {
     "data": {
      "application/vnd.jupyter.widget-view+json": {
       "model_id": "053ff0939844469185b11ba4223fa64c",
       "version_major": 2,
       "version_minor": 0
      },
      "text/plain": [
       "Map:   0%|          | 0/5000 [00:00<?, ? examples/s]"
      ]
     },
     "metadata": {},
     "output_type": "display_data"
    }
   ],
   "source": [
    "# 이미 문자 단위로 분할되었으므로 tokenize 되어있다고 봐야 함. 따라서 토큰화 건너뛰고 바로 정수 인코딩으로 넘어감\n",
    "def tokenize_and_align_labels(examples):\n",
    "    tokenized_inputs = tokenizer(examples['tokens'], truncation=True, is_split_into_words=True)\n",
    "\n",
    "    labels=[]\n",
    "    for i,label in enumerate(examples[f\"ner_tags\"]):\n",
    "        # 토큰을 해당 단어에 매핑\n",
    "        word_ids = tokenized_inputs.word_ids(batch_index=i)\n",
    "        previous_word_idx = None\n",
    "        label_ids = []\n",
    "\n",
    "        # 특수토큰을 -100으로 세팅\n",
    "        for word_idx in word_ids:\n",
    "            if word_idx is None:\n",
    "                label_ids.append(12)\n",
    "            #주어진 단어의 첫번째 토큰에만 레이블 지정\n",
    "            elif word_idx != previous_word_idx:\n",
    "                label_ids.append(label[word_idx])\n",
    "            else:\n",
    "                label_ids.append(-100)\n",
    "            previous_word_idx = word_idx\n",
    "        labels.append(label_ids)\n",
    "\n",
    "    tokenized_inputs['labels'] = labels\n",
    "    return tokenized_inputs\n",
    "\n",
    "tokenized_dataset = dataset.map(\n",
    "    tokenize_and_align_labels,\n",
    "    batched=True,\n",
    "    remove_columns=dataset['train'].column_names\n",
    ")"
   ]
  },
  {
   "cell_type": "code",
   "execution_count": 13,
   "id": "0578d020-0102-4c10-9727-8d52782bbcb9",
   "metadata": {},
   "outputs": [],
   "source": [
    "from transformers import DataCollatorForTokenClassification\n",
    "\n",
    "data_collator = DataCollatorForTokenClassification(tokenizer=tokenizer)\n",
    "batch = data_collator([tokenized_dataset['train'][i] for i in range(10)])"
   ]
  },
  {
   "cell_type": "code",
   "execution_count": 14,
   "id": "010beeb4-0ed1-4bca-a442-13530e61b9db",
   "metadata": {},
   "outputs": [],
   "source": [
    "# klue/bert 모델은 id2label이 세팅되어 있지 않으므로 지정해 주어야 함\n",
    "id2label = {\n",
    "    0: \"B-DT\",\n",
    "    1: \"I-DT\",\n",
    "    2: \"B-LC\",\n",
    "    3: \"I-LC\",\n",
    "    4: \"B-OG\",\n",
    "    5: \"I-OG\",\n",
    "    6: \"B-PS\",\n",
    "    7: \"I-PS\",\n",
    "    8: \"B-QT\",\n",
    "    9: \"I-QT\",\n",
    "    10: \"B-TI\",\n",
    "    11: \"I-TI\",\n",
    "    12: \"O\"\n",
    "}\n",
    "\n",
    "label2id = {\n",
    "    \"B-DT\": 0,\n",
    "    \"I-DT\": 1,\n",
    "    \"B-LC\": 2,\n",
    "    \"I-LC\": 3,\n",
    "    \"B-OG\": 4,\n",
    "    \"I-OG\": 5,\n",
    "    \"B-PS\": 6,\n",
    "    \"I-PS\": 7,\n",
    "    \"B-QT\": 8,\n",
    "    \"I-QT\": 9,\n",
    "    \"B-TI\": 10,\n",
    "    \"I-TI\": 11,\n",
    "    \"O\": 12\n",
    "\n",
    "}"
   ]
  },
  {
   "cell_type": "code",
   "execution_count": 15,
   "id": "c8c95c06-d245-45dd-802a-8b923d3cf501",
   "metadata": {},
   "outputs": [
    {
     "name": "stderr",
     "output_type": "stream",
     "text": [
      "Some weights of BertForTokenClassification were not initialized from the model checkpoint at klue/bert-base and are newly initialized: ['classifier.bias', 'classifier.weight']\n",
      "You should probably TRAIN this model on a down-stream task to be able to use it for predictions and inference.\n"
     ]
    }
   ],
   "source": [
    "# 값 지정하여 모델 불러오기\n",
    "from transformers import AutoModelForTokenClassification\n",
    "\n",
    "model = AutoModelForTokenClassification.from_pretrained(\n",
    "    \"klue/bert-base\",\n",
    "    num_labels=13,\n",
    "    id2label=id2label,\n",
    "    label2id=label2id\n",
    ")"
   ]
  },
  {
   "cell_type": "code",
   "execution_count": 17,
   "id": "0d4bec71-e0d9-411c-a0b6-35dc5107a19d",
   "metadata": {},
   "outputs": [
    {
     "data": {
      "text/plain": [
       "['I-DT',\n",
       " 'B-LC',\n",
       " 'B-QT',\n",
       " 'I-PS',\n",
       " 'I-PS',\n",
       " 'B-QT',\n",
       " 'B-QT',\n",
       " 'B-QT',\n",
       " 'B-QT',\n",
       " 'B-LC',\n",
       " 'I-TI',\n",
       " 'I-LC',\n",
       " 'I-PS',\n",
       " 'I-PS',\n",
       " 'B-TI',\n",
       " 'I-PS',\n",
       " 'B-QT',\n",
       " 'B-LC',\n",
       " 'I-DT',\n",
       " 'B-QT',\n",
       " 'B-OG',\n",
       " 'I-DT',\n",
       " 'I-TI',\n",
       " 'B-QT',\n",
       " 'I-DT',\n",
       " 'I-TI',\n",
       " 'B-QT',\n",
       " 'I-QT',\n",
       " 'B-OG',\n",
       " 'I-PS',\n",
       " 'I-TI',\n",
       " 'I-QT',\n",
       " 'B-QT',\n",
       " 'B-TI',\n",
       " 'I-PS',\n",
       " 'I-TI',\n",
       " 'I-PS',\n",
       " 'I-PS',\n",
       " 'I-PS',\n",
       " 'I-DT',\n",
       " 'I-PS',\n",
       " 'I-PS',\n",
       " 'B-QT',\n",
       " 'B-QT',\n",
       " 'I-DT',\n",
       " 'I-TI',\n",
       " 'I-TI',\n",
       " 'I-TI',\n",
       " 'I-PS',\n",
       " 'I-PS',\n",
       " 'I-DT',\n",
       " 'I-DT',\n",
       " 'I-PS',\n",
       " 'I-LC',\n",
       " 'I-LC',\n",
       " 'B-PS',\n",
       " 'B-PS',\n",
       " 'B-OG',\n",
       " 'I-TI',\n",
       " 'I-PS',\n",
       " 'I-OG',\n",
       " 'I-TI',\n",
       " 'I-OG',\n",
       " 'I-OG',\n",
       " 'I-OG',\n",
       " 'I-TI',\n",
       " 'I-DT',\n",
       " 'I-DT',\n",
       " 'I-PS',\n",
       " 'I-DT',\n",
       " 'I-TI',\n",
       " 'I-DT',\n",
       " 'I-DT',\n",
       " 'I-PS',\n",
       " 'I-PS',\n",
       " 'I-DT',\n",
       " 'I-DT',\n",
       " 'I-TI',\n",
       " 'I-QT',\n",
       " 'I-TI',\n",
       " 'I-TI',\n",
       " 'I-TI',\n",
       " 'I-TI',\n",
       " 'I-TI',\n",
       " 'I-DT',\n",
       " 'I-DT',\n",
       " 'I-TI',\n",
       " 'I-PS',\n",
       " 'I-TI',\n",
       " 'I-TI',\n",
       " 'I-TI',\n",
       " 'I-OG',\n",
       " 'I-TI',\n",
       " 'I-TI',\n",
       " 'I-OG',\n",
       " 'I-PS',\n",
       " 'I-OG',\n",
       " 'I-DT',\n",
       " 'I-TI',\n",
       " 'I-DT',\n",
       " 'I-TI',\n",
       " 'I-TI',\n",
       " 'I-DT',\n",
       " 'I-DT',\n",
       " 'B-OG',\n",
       " 'B-PS',\n",
       " 'I-PS',\n",
       " 'I-DT',\n",
       " 'I-TI',\n",
       " 'I-TI',\n",
       " 'I-TI',\n",
       " 'I-TI',\n",
       " 'I-PS',\n",
       " 'I-PS',\n",
       " 'I-OG',\n",
       " 'I-PS',\n",
       " 'I-OG']"
      ]
     },
     "execution_count": 17,
     "metadata": {},
     "output_type": "execute_result"
    }
   ],
   "source": [
    "# 추론값 로짓 형태로 출력\n",
    "with torch.no_grad():\n",
    "    logits = model(**batch).logits\n",
    "\n",
    "predictions = torch.argmax(logits, dim=2)\n",
    "predicted_token_class = [model.config.id2label[t.item()] for t in predictions[0]]\n",
    "\n",
    "predicted_token_class"
   ]
  },
  {
   "cell_type": "code",
   "execution_count": 19,
   "id": "ee0f1c3c-31d4-4a9b-b76b-b05a3b957cf5",
   "metadata": {},
   "outputs": [
    {
     "data": {
      "text/plain": [
       "{'f1': 0.07008547008547009}"
      ]
     },
     "execution_count": 19,
     "metadata": {},
     "output_type": "execute_result"
    }
   ],
   "source": [
    "# 평가 지표\n",
    "import evaluate\n",
    "\n",
    "pred_labels = logits.argmax(dim=-1).view(-1).cpu().numpy()\n",
    "true_labels = batch['labels'].view(-1).numpy()\n",
    "pred_labels.shape, true_labels.shape\n",
    "\n",
    "f1 = evaluate.load(\"f1\")\n",
    "f1.compute(predictions=pred_labels, references=true_labels, average='micro')"
   ]
  },
  {
   "cell_type": "code",
   "execution_count": null,
   "id": "3e795ec5-a28d-4eeb-8c54-78c323a7f0b5",
   "metadata": {},
   "outputs": [],
   "source": []
  }
 ],
 "metadata": {
  "kernelspec": {
   "display_name": "Python 3 (ipykernel)",
   "language": "python",
   "name": "python3"
  },
  "language_info": {
   "codemirror_mode": {
    "name": "ipython",
    "version": 3
   },
   "file_extension": ".py",
   "mimetype": "text/x-python",
   "name": "python",
   "nbconvert_exporter": "python",
   "pygments_lexer": "ipython3",
   "version": "3.10.12"
  }
 },
 "nbformat": 4,
 "nbformat_minor": 5
}
